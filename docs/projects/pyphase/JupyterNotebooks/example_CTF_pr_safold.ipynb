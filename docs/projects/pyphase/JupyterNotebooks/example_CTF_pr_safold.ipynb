{
 "cells": [
  {
   "cell_type": "markdown",
   "metadata": {},
   "source": [
    "## Multi-distance CTF Phase Retrieval with preprocessing\n",
    "\n",
    "This notebook covers the usage of pyPhase for phase retrieval using CTF on a real dataset.\n",
    "\n",
    "The images are is in tiff format and are not preprocessed.\n",
    "\n",
    "\n",
    "> ***NOTE: If using unrealeased version of pyPhase, have the source files in the python projects directory and\n",
    "change `pyphase inmport` to `import`.***"
   ]
  },
  {
   "cell_type": "code",
   "execution_count": null,
   "metadata": {},
   "outputs": [],
   "source": [
    "from pyphase import dataset as Dataset\n",
    "from pyphase import phaseretrieval as Phaseretrieval\n",
    "from pyphase import utilities\n",
    "\n",
    "import matplotlib.pyplot as plt\n",
    "from skimage import io"
   ]
  },
  {
   "cell_type": "markdown",
   "metadata": {},
   "source": [
    "### Dataset setup\n",
    "\n",
    "Define the data `path` and the projects `name` and instantiate a DataSet object.\n",
    "\n",
    "*Note that the project name must match the prefix of the directories and files names.*"
   ]
  },
  {
   "cell_type": "code",
   "execution_count": null,
   "metadata": {},
   "outputs": [],
   "source": [
    "path = '/data/staff/tomograms/users/diogo/Data/safold'\n",
    "name = 'safold'\n",
    "\n",
    "dataset = Dataset.TiffDataSet(path, name)"
   ]
  },
  {
   "cell_type": "markdown",
   "metadata": {},
   "source": [
    "### Visualize/inspect the data"
   ]
  },
  {
   "cell_type": "code",
   "execution_count": null,
   "metadata": {},
   "outputs": [],
   "source": [
    "fig, ax = plt.subplots(nrows = 2, ncols = 3, figsize = (30,20))\n",
    "\n",
    "for i,row in enumerate(ax):\n",
    "    for j,col in enumerate(row):\n",
    "        file = '/data/staff/tomograms/users/diogo/Data/safold/safold_{}_0040.tif'.format((i+1)*(j+1))\n",
    "            \n",
    "        im = io.imread(file)\n",
    "        col.imshow(im, cmap='gray')"
   ]
  },
  {
   "cell_type": "markdown",
   "metadata": {},
   "source": [
    "### Preprocessing"
   ]
  },
  {
   "cell_type": "markdown",
   "metadata": {},
   "source": [
    "To have pyPhase perform flat-field correction and do shifts correction set"
   ]
  },
  {
   "cell_type": "code",
   "execution_count": null,
   "metadata": {},
   "outputs": [],
   "source": [
    "dataset.preprocess=1\n",
    "dataset.correct_shifts=1"
   ]
  },
  {
   "cell_type": "markdown",
   "metadata": {},
   "source": [
    "Set\n"
   ]
  },
  {
   "cell_type": "code",
   "execution_count": null,
   "metadata": {},
   "outputs": [],
   "source": [
    "dataset.correct_motion = 0"
   ]
  },
  {
   "cell_type": "markdown",
   "metadata": {},
   "source": [
    "Use the `utilities` module to choose a registration algorithm "
   ]
  },
  {
   "cell_type": "code",
   "execution_count": null,
   "metadata": {},
   "outputs": [],
   "source": [
    "RA = utilities.ElastixCorrelationRegistrationAlgorithm()"
   ]
  },
  {
   "cell_type": "markdown",
   "metadata": {},
   "source": [
    "Observe that using `utilitie` requires having [elaxtix](http://elastix.isi.uu.nl/) installed.\n",
    "\n",
    "To get the shifts run"
   ]
  },
  {
   "cell_type": "code",
   "execution_count": null,
   "metadata": {},
   "outputs": [],
   "source": [
    "dataset.Align(RA, interval = 8)"
   ]
  },
  {
   "cell_type": "markdown",
   "metadata": {},
   "source": [
    "where `interval` is the number of projections in between the images to align.\n",
    "This create a file `shifts.picle`, in containing the shifts. These then fit into a polynomial using\n",
    "\n"
   ]
  },
  {
   "cell_type": "code",
   "execution_count": null,
   "metadata": {},
   "outputs": [],
   "source": [
    "dataset.FitShifts()"
   ]
  },
  {
   "cell_type": "markdown",
   "metadata": {},
   "source": [
    "### Phase retrieval"
   ]
  },
  {
   "cell_type": "markdown",
   "metadata": {},
   "source": [
    "At this stage we can create our retriever object with"
   ]
  },
  {
   "cell_type": "code",
   "execution_count": null,
   "metadata": {},
   "outputs": [],
   "source": [
    "alpha = 1e-8\n",
    "retriever = phaseretrieval.CTF(dataset, alpha)"
   ]
  },
  {
   "cell_type": "markdown",
   "metadata": {},
   "source": [
    "Choose the range of projections to which to apply the phase retrieval"
   ]
  },
  {
   "cell_type": "code",
   "execution_count": null,
   "metadata": {},
   "outputs": [],
   "source": [
    "start = 26\n",
    "end 27"
   ]
  },
  {
   "cell_type": "markdown",
   "metadata": {},
   "source": [
    "Retrieve the phase and attenuation with"
   ]
  },
  {
   "cell_type": "code",
   "execution_count": null,
   "metadata": {},
   "outputs": [],
   "source": [
    "retriever.ReconstructProjections(dataset, start, end)"
   ]
  },
  {
   "cell_type": "markdown",
   "metadata": {},
   "source": [
    "For each projection, a file named `safold_PP_000[n].edf` with the retrieved phase and a file named `safold_att_PP`, with the retrieved attenuation, is created in the `[path]/myProject_`.\n"
   ]
  },
  {
   "cell_type": "markdown",
   "metadata": {},
   "source": [
    "### Visualize results"
   ]
  },
  {
   "cell_type": "markdown",
   "metadata": {},
   "source": [
    "Look at the results by plotting the retrieved phase and retrieved attenuation for one projection"
   ]
  },
  {
   "cell_type": "code",
   "execution_count": null,
   "metadata": {},
   "outputs": [],
   "source": [
    "plt.figure(figsize = [8,8])\n",
    "im = io.imread(path + 'safold_/safold_PP_0026.tif')\n",
    "plt.imshow(imm, cmap = 'gray')"
   ]
  },
  {
   "cell_type": "code",
   "execution_count": null,
   "metadata": {},
   "outputs": [],
   "source": [
    "plt.figure(figsize = [8,8])\n",
    "im = io.imread(path + 'safold_/safold_PP_att_0026.tif')\n",
    "plt.imshow(imm, cmap = 'gray')"
   ]
  }
 ],
 "metadata": {
  "kernelspec": {
   "display_name": "Python 3",
   "language": "python",
   "name": "python3"
  },
  "language_info": {
   "codemirror_mode": {
    "name": "ipython",
    "version": 3
   },
   "file_extension": ".py",
   "mimetype": "text/x-python",
   "name": "python",
   "nbconvert_exporter": "python",
   "pygments_lexer": "ipython3",
   "version": "3.7.3"
  }
 },
 "nbformat": 4,
 "nbformat_minor": 2
}
